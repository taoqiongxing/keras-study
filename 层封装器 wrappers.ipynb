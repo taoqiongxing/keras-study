{
 "cells": [
  {
   "cell_type": "markdown",
   "metadata": {},
   "source": [
    "# TimeDistributed"
   ]
  },
  {
   "cell_type": "code",
   "execution_count": null,
   "metadata": {},
   "outputs": [],
   "source": [
    "keras.layers.TimeDistributed(layer)"
   ]
  },
  {
   "cell_type": "markdown",
   "metadata": {},
   "source": [
    "这个封装器将一个层应用于输入的每个时间片。\n",
    "\n",
    "输入至少为 3D，且第一个维度应该是时间所表示的维度。\n",
    "\n",
    "考虑 32 个样本的一个 batch， 其中每个样本是 10 个 16 维向量的序列。 那么这个 batch 的输入尺寸为 (32, 10, 16)， 而 input_shape 不包含样本数量的维度，为  (10, 16)。\n",
    "\n",
    "你可以使用 TimeDistributed 来将 Dense 层独立地应用到 这 10 个时间步的每一个："
   ]
  },
  {
   "cell_type": "code",
   "execution_count": null,
   "metadata": {},
   "outputs": [],
   "source": [
    "#作为模型第一层\n",
    "model=Sequential()\n",
    "model.add(TimeDistributed(Dense(8),input_shape=(10,16)))\n",
    "#现在model.output_shape==(None,10,8)"
   ]
  },
  {
   "cell_type": "markdown",
   "metadata": {},
   "source": [
    "输出的尺寸为 (32, 10, 8)。\n",
    "\n",
    "在后续的层中，将不再需要 input_shape："
   ]
  },
  {
   "cell_type": "code",
   "execution_count": null,
   "metadata": {},
   "outputs": [],
   "source": [
    "model.add(TimeDistributed(Dense(32)))\n",
    "#现在model.output_shape==(None,10,32)"
   ]
  },
  {
   "cell_type": "markdown",
   "metadata": {},
   "source": [
    "输出的尺寸为 (32, 10, 32)。\n",
    "\n",
    "TimeDistributed 可以应用于任意层，不仅仅是 Dense， 例如运用于 Conv2D 层："
   ]
  },
  {
   "cell_type": "code",
   "execution_count": null,
   "metadata": {},
   "outputs": [],
   "source": [
    "model.Sequential()\n",
    "model.add(TimeDistributed(Conv2D(64,(3,3)),input_shape=(10,299,299,3)))"
   ]
  },
  {
   "cell_type": "markdown",
   "metadata": {},
   "source": [
    "### 参数\n",
    "\n",
    "layer: 一个网络层实例。"
   ]
  },
  {
   "cell_type": "markdown",
   "metadata": {},
   "source": [
    "# Bidirectional"
   ]
  },
  {
   "cell_type": "code",
   "execution_count": null,
   "metadata": {},
   "outputs": [],
   "source": [
    "keras.layers.Bidirectional(layer, merge_mode='concat', weights=None)"
   ]
  },
  {
   "cell_type": "markdown",
   "metadata": {},
   "source": [
    "RNN 的双向封装器，对序列进行前向和后向计算。\n",
    "\n",
    "### 参数\n",
    "\n",
    "layer: Recurrent 实例。\n",
    "\n",
    "merge_mode: 前向和后向 RNN 的输出的结合模式。 为 {'sum', 'mul', 'concat', 'ave', None} 其中之一。 如果是 None，输出不会被结合，而是作为一个列表被返回。\n",
    "### 异常\n",
    "\n",
    "ValueError: 如果参数 merge_mode 非法。"
   ]
  },
  {
   "cell_type": "code",
   "execution_count": null,
   "metadata": {},
   "outputs": [],
   "source": [
    "model=Sequential()\n",
    "model.add(Bidirectional(LSTM(10,return_sequences=Ture),\n",
    "                       input_shape=(5,10)))\n",
    "model.add(Bidirectional(LSTM(10)))\n",
    "model.add(Dense(5))\n",
    "modeladd(Actvation('softmax'))\n",
    "model.compile(loss='categorical_crossentropy',optimizer='rmsprop')"
   ]
  }
 ],
 "metadata": {
  "kernelspec": {
   "display_name": "Python 3",
   "language": "python",
   "name": "python3"
  },
  "language_info": {
   "codemirror_mode": {
    "name": "ipython",
    "version": 3
   },
   "file_extension": ".py",
   "mimetype": "text/x-python",
   "name": "python",
   "nbconvert_exporter": "python",
   "pygments_lexer": "ipython3",
   "version": "3.6.5"
  }
 },
 "nbformat": 4,
 "nbformat_minor": 2
}
