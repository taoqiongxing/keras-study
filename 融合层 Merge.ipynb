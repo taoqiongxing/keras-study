{
 "cells": [
  {
   "cell_type": "markdown",
   "metadata": {},
   "source": [
    "# Add"
   ]
  },
  {
   "cell_type": "code",
   "execution_count": null,
   "metadata": {},
   "outputs": [],
   "source": [
    "keras.layers.Add()"
   ]
  },
  {
   "cell_type": "markdown",
   "metadata": {},
   "source": [
    "计算一个列表的输入张量的和。\n",
    "\n",
    "相加层接受一个列表的张量， 所有的张量必须有相同的输入尺寸， 然后返回一个张量（和输入张量尺寸相同）。"
   ]
  },
  {
   "cell_type": "code",
   "execution_count": null,
   "metadata": {},
   "outputs": [],
   "source": [
    "import keras\n",
    "\n",
    "input1=keras.layers.Input(shape=(16,))\n",
    "x1=keras.layers.Dense(8,activation='relu')(input1)\n",
    "input2=keras.layers.Input(shape=(32,))\n",
    "x2=keras.layers.Dense(8,activation='relu')(input2)\n",
    "added=keras.layers.Add()([x1,x2])#相当于added=keras.layers.add([x1,x2])\n",
    "\n",
    "out=keras.layers.Dense(4)(added)\n",
    "model=keras.models.Model(input=[input1,input2],outputs=out)"
   ]
  },
  {
   "cell_type": "markdown",
   "metadata": {},
   "source": [
    "# Subtract"
   ]
  },
  {
   "cell_type": "code",
   "execution_count": null,
   "metadata": {},
   "outputs": [],
   "source": [
    "keras.layers.Subtract()"
   ]
  },
  {
   "cell_type": "markdown",
   "metadata": {},
   "source": [
    "计算两个输入张量的差。\n",
    "\n",
    "相减层接受一个长度为 2 的张量列表， 两个张量必须有相同的尺寸，然后返回一个值为 (inputs[0] - inputs[1]) 的张量， 输出张量和输入张量尺寸相同。"
   ]
  },
  {
   "cell_type": "code",
   "execution_count": null,
   "metadata": {},
   "outputs": [],
   "source": [
    "import keras\n",
    "\n",
    "input1=keras.layers.Input(shape=(16,))\n",
    "x1=keras.layers.Dense(8,activation='relu')(input1)\n",
    "input2=keras.layers.Input(shape=(32,))\n",
    "x2=keras.layers.Dense(8,activation='relu')(input2)\n",
    "#相当于subtracted=keras.layers.subtract([x1,x2])\n",
    "subtracted=keras.layers.Subtract()([x1,x2])\n",
    "\n",
    "out=keras.layers.Dense(4)(subtracted)\n",
    "model=keras.models.Model(inputs=[input1,input2],outputs=out)"
   ]
  },
  {
   "cell_type": "markdown",
   "metadata": {},
   "source": [
    "# Multiply"
   ]
  },
  {
   "cell_type": "code",
   "execution_count": null,
   "metadata": {},
   "outputs": [],
   "source": [
    "keras.layers.Multiply()"
   ]
  },
  {
   "cell_type": "markdown",
   "metadata": {},
   "source": [
    "计算一个列表的输入张量的（逐元素间的）乘积。\n",
    "\n",
    "相乘层接受一个列表的张量， 所有的张量必须有相同的输入尺寸， 然后返回一个张量（和输入张量尺寸相同）。"
   ]
  },
  {
   "cell_type": "markdown",
   "metadata": {},
   "source": [
    "# Average"
   ]
  },
  {
   "cell_type": "code",
   "execution_count": null,
   "metadata": {},
   "outputs": [],
   "source": [
    "keras.layers.Average()"
   ]
  },
  {
   "cell_type": "markdown",
   "metadata": {},
   "source": [
    "计算一个列表的输入张量的平均值。\n",
    "\n",
    "平均层接受一个列表的张量， 所有的张量必须有相同的输入尺寸， 然后返回一个张量（和输入张量尺寸相同）。"
   ]
  },
  {
   "cell_type": "markdown",
   "metadata": {},
   "source": [
    "# Maximum"
   ]
  },
  {
   "cell_type": "code",
   "execution_count": null,
   "metadata": {},
   "outputs": [],
   "source": [
    "keras.layers.Maximum()"
   ]
  },
  {
   "cell_type": "markdown",
   "metadata": {},
   "source": [
    "计算一个列表的输入张量的（逐元素间的）最大值。\n",
    "\n",
    "最大层接受一个列表的张量， 所有的张量必须有相同的输入尺寸， 然后返回一个张量（和输入张量尺寸相同）"
   ]
  },
  {
   "cell_type": "markdown",
   "metadata": {},
   "source": [
    "# Concatenate"
   ]
  },
  {
   "cell_type": "code",
   "execution_count": null,
   "metadata": {},
   "outputs": [],
   "source": [
    "keras.layers.Concatenate(axis=-1)"
   ]
  },
  {
   "cell_type": "markdown",
   "metadata": {},
   "source": [
    "串联一个列表的输入张量。\n",
    "\n",
    "串联层接受一个列表的张量， 除了串联轴之外，其他的尺寸都必须相同， 然后返回一个由所有输入张量串联起来的输出张量。"
   ]
  },
  {
   "cell_type": "markdown",
   "metadata": {},
   "source": [
    "### 参数\n",
    "\n",
    "axis: 串联的轴。\n",
    "\n",
    "**kwargs: 层关键字参数。"
   ]
  },
  {
   "cell_type": "markdown",
   "metadata": {},
   "source": [
    "# Dot"
   ]
  },
  {
   "cell_type": "code",
   "execution_count": null,
   "metadata": {},
   "outputs": [],
   "source": [
    "keras.layers.Dot(axes, normalize=False)"
   ]
  },
  {
   "cell_type": "markdown",
   "metadata": {},
   "source": [
    "计算两个张量之间样本的点积。\n",
    "\n",
    "例如，如果作用于输入尺寸为 (batch_size, n) 的两个张量 a 和 b， 那么输出结果就会是尺寸为 (batch_size, 1) 的一个张量。 在这个张量中，每一个条目 i 是  a[i] 和 b[i] 之间的点积。"
   ]
  },
  {
   "cell_type": "markdown",
   "metadata": {},
   "source": [
    "### 参数\n",
    "\n",
    "axes: 整数或者整数元组， 一个或者几个进行点积的轴。\n",
    "\n",
    "normalize: 是否在点积之前对即将进行点积的轴进行 L2 标准化。 如果设置成 True，那么输出两个样本之间的余弦相似值。\n",
    "\n",
    "**kwargs: 层关键字参数。\n"
   ]
  },
  {
   "cell_type": "markdown",
   "metadata": {},
   "source": [
    "# add"
   ]
  },
  {
   "cell_type": "code",
   "execution_count": null,
   "metadata": {},
   "outputs": [],
   "source": [
    "keras.layers.add(inputs)"
   ]
  },
  {
   "cell_type": "markdown",
   "metadata": {},
   "source": [
    "Add 层的函数式接口。\n",
    "\n",
    "### 参数\n",
    "\n",
    "inputs: 一个列表的输入张量（列表大小至少为 2）。\n",
    "\n",
    "**kwargs: 层关键字参数。\n",
    "### 返回\n",
    "\n",
    "一个张量，所有输入张量的和。"
   ]
  },
  {
   "cell_type": "code",
   "execution_count": null,
   "metadata": {},
   "outputs": [],
   "source": [
    "import keras\n",
    "\n",
    "input1 = keras.layers.Input(shape=(16,))\n",
    "x1 = keras.layers.Dense(8, activation='relu')(input1)\n",
    "input2 = keras.layers.Input(shape=(32,))\n",
    "x2 = keras.layers.Dense(8, activation='relu')(input2)\n",
    "added = keras.layers.add([x1, x2])\n",
    "\n",
    "out = keras.layers.Dense(4)(added)\n",
    "model = keras.models.Model(inputs=[input1, input2], outputs=out)"
   ]
  },
  {
   "cell_type": "markdown",
   "metadata": {},
   "source": [
    "# subtract"
   ]
  },
  {
   "cell_type": "code",
   "execution_count": null,
   "metadata": {},
   "outputs": [],
   "source": [
    "keras.layers.subtract(inputs)"
   ]
  },
  {
   "cell_type": "markdown",
   "metadata": {},
   "source": [
    "Subtract 层的函数式接口。\n",
    "\n",
    "### 参数\n",
    "\n",
    "inputs: 一个列表的输入张量（列表大小准确为 2）。\n",
    "    \n",
    "**kwargs: 层的关键字参数。\n",
    "### 返回\n",
    "\n",
    "一个张量，两个输入张量的差。"
   ]
  },
  {
   "cell_type": "code",
   "execution_count": null,
   "metadata": {},
   "outputs": [],
   "source": [
    "import keras\n",
    "\n",
    "input1 = keras.layers.Input(shape=(16,))\n",
    "x1 = keras.layers.Dense(8, activation='relu')(input1)\n",
    "input2 = keras.layers.Input(shape=(32,))\n",
    "x2 = keras.layers.Dense(8, activation='relu')(input2)\n",
    "subtracted = keras.layers.subtract([x1, x2])\n",
    "\n",
    "out = keras.layers.Dense(4)(subtracted)\n",
    "model = keras.models.Model(inputs=[input1, input2], outputs=out)"
   ]
  },
  {
   "cell_type": "markdown",
   "metadata": {},
   "source": [
    "# multiply"
   ]
  },
  {
   "cell_type": "code",
   "execution_count": null,
   "metadata": {},
   "outputs": [],
   "source": [
    "keras.layers.multiply(inputs)"
   ]
  },
  {
   "cell_type": "markdown",
   "metadata": {},
   "source": [
    "Multiply 层的函数式接口。\n",
    "\n",
    "### 参数\n",
    "\n",
    "inputs: 一个列表的输入张量（列表大小至少为 2）。\n",
    "    \n",
    "**kwargs: 层的关键字参数。\n",
    "### 返回\n",
    "\n",
    "一个张量，所有输入张量的逐元素乘积。"
   ]
  },
  {
   "cell_type": "markdown",
   "metadata": {},
   "source": [
    "# average"
   ]
  },
  {
   "cell_type": "code",
   "execution_count": null,
   "metadata": {},
   "outputs": [],
   "source": [
    "keras.layers.average(inputs)"
   ]
  },
  {
   "cell_type": "markdown",
   "metadata": {},
   "source": [
    "Average 层的函数式接口。\n",
    "\n",
    "### 参数\n",
    "\n",
    "inputs: 一个列表的输入张量（列表大小至少为 2）。\n",
    "    \n",
    "**kwargs: 层的关键字参数。\n",
    "### 返回\n",
    "\n",
    "一个张量，所有输入张量的平均值。"
   ]
  },
  {
   "cell_type": "markdown",
   "metadata": {},
   "source": [
    "# maximum"
   ]
  },
  {
   "cell_type": "code",
   "execution_count": null,
   "metadata": {},
   "outputs": [],
   "source": [
    "keras.layers.maximum(inputs)"
   ]
  },
  {
   "cell_type": "markdown",
   "metadata": {},
   "source": [
    "Maximum 层的函数式接口。\n",
    "\n",
    "### 参数\n",
    "\n",
    "inputs: 一个列表的输入张量（列表大小至少为 2）。\n",
    "    \n",
    "**kwargs: 层的关键字参数。\n",
    "### 返回\n",
    "\n",
    "一个张量，所有张量的逐元素的最大值。"
   ]
  },
  {
   "cell_type": "markdown",
   "metadata": {},
   "source": [
    "# concatenate"
   ]
  },
  {
   "cell_type": "code",
   "execution_count": null,
   "metadata": {},
   "outputs": [],
   "source": [
    "keras.layers.concatenate(inputs, axis=-1)"
   ]
  },
  {
   "cell_type": "markdown",
   "metadata": {},
   "source": [
    "Concatenate 层的函数式接口。\n",
    "\n",
    "### 参数\n",
    "\n",
    "inputs: 一个列表的输入张量（列表大小至少为 2）。\n",
    "    \n",
    "axis: 串联的轴。\n",
    "    \n",
    "**kwargs: 层的关键字参数。\n",
    "### 返回\n",
    "\n",
    "一个张量，所有输入张量通过 axis 轴串联起来的输出张量。"
   ]
  },
  {
   "cell_type": "markdown",
   "metadata": {},
   "source": [
    "# dot"
   ]
  },
  {
   "cell_type": "code",
   "execution_count": null,
   "metadata": {},
   "outputs": [],
   "source": [
    "keras.layers.dot(inputs, axes, normalize=False)"
   ]
  },
  {
   "cell_type": "markdown",
   "metadata": {},
   "source": [
    "Dot 层的函数式接口。\n",
    "\n",
    "### 参数\n",
    "\n",
    "inputs: 一个列表的输入张量（列表大小至少为 2）。\n",
    "    \n",
    "axes: 整数或者整数元组， 一个或者几个进行点积的轴。\n",
    "    \n",
    "normalize: 是否在点积之前对即将进行点积的轴进行 L2 标准化。 如果设置成 True，那么输出两个样本之间的余弦相似值。\n",
    "\n",
    "**kwargs: 层的关键字参数。\n",
    "### 返回\n",
    "\n",
    "一个张量，所有输入张量样本之间的点积。"
   ]
  },
  {
   "cell_type": "code",
   "execution_count": null,
   "metadata": {},
   "outputs": [],
   "source": []
  }
 ],
 "metadata": {
  "kernelspec": {
   "display_name": "Python 3",
   "language": "python",
   "name": "python3"
  },
  "language_info": {
   "codemirror_mode": {
    "name": "ipython",
    "version": 3
   },
   "file_extension": ".py",
   "mimetype": "text/x-python",
   "name": "python",
   "nbconvert_exporter": "python",
   "pygments_lexer": "ipython3",
   "version": "3.6.5"
  }
 },
 "nbformat": 4,
 "nbformat_minor": 2
}
