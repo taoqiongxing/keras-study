{
 "cells": [
  {
   "cell_type": "markdown",
   "metadata": {},
   "source": [
    "# MaxPooling1D"
   ]
  },
  {
   "cell_type": "code",
   "execution_count": null,
   "metadata": {},
   "outputs": [],
   "source": [
    "keras.layers.MaxPooling1D(pool_size=2,strides=None,padding='valid')"
   ]
  },
  {
   "cell_type": "markdown",
   "metadata": {},
   "source": [
    "对于时序数据的最大池化。"
   ]
  },
  {
   "cell_type": "markdown",
   "metadata": {},
   "source": [
    "### 参数\n",
    "pool_size: 整数，最大池化的窗口大小。\n",
    "\n",
    "strides: 整数，或者是 None。作为缩小比例的因数。 例如，2 会使得输入张量缩小一半。 如果是 None，那么默认值是 pool_size。\n",
    "\n",
    "padding: \"valid\" 或者 \"same\" （区分大小写）。"
   ]
  },
  {
   "cell_type": "markdown",
   "metadata": {},
   "source": [
    "### 输入尺寸\n",
    "\n",
    "尺寸是 (batch_size, steps, features) 的 3D 张量。\n",
    "\n",
    "### 输出尺寸\n",
    "\n",
    "尺寸是 (batch_size, downsampled_steps, features) 的 3D 张量。"
   ]
  },
  {
   "cell_type": "markdown",
   "metadata": {},
   "source": [
    "# MaxPooling2D"
   ]
  },
  {
   "cell_type": "code",
   "execution_count": null,
   "metadata": {},
   "outputs": [],
   "source": [
    "keras.layers.MaxPooling2D(pool_size=(2, 2), \n",
    "                          strides=None, \n",
    "                          padding='valid', \n",
    "                          data_format=None)"
   ]
  },
  {
   "cell_type": "markdown",
   "metadata": {},
   "source": [
    "对于空域数据的最大池化。\n",
    "\n",
    "### 参数\n",
    "\n",
    "pool_size: 整数，或者 2 个整数元组，（垂直方向，水平方向）缩小比例的因数。（2，2）会把输入张量的两个维度都缩小一半。 如果只使用一个整数，那么两个维度都会使用同样的窗口长度。\n",
    "\n",
    "strides: 整数，整数元组或者是 None。 步长值。 如果是 None，那么默认值是  pool_size。\n",
    "\n",
    "padding: \"valid\" 或者 \"same\" （区分大小写）。\n",
    "\n",
    "data_format: 一个字符串，channels_last （默认值）或者 channels_first。 输入张量中的维度顺序。 channels_last 代表尺寸是 (batch, height, width, channels) 的输入张量，而 channels_first 代表尺寸是 (batch, channels, height, width) 的输入张量。 默认值根据 Keras 配置文件 ~/.keras/keras.json 中的 image_data_format 值来设置。 如果还没有设置过，那么默认值就是 \"channels_last\"。\n",
    "### 输入尺寸\n",
    "\n",
    "如果 data_format='channels_last': 尺寸是 (batch_size, rows, cols, channels) 的 4D 张量\n",
    "\n",
    "如果 data_format='channels_first': 尺寸是 (batch_size, channels, rows, cols) 的 4D 张量\n",
    "### 输出尺寸\n",
    "\n",
    "如果 data_format='channels_last': 尺寸是  (batch_size, pooled_rows, pooled_cols, channels) 的 4D 张量\n",
    "\n",
    "如果 data_format='channels_first': 尺寸是  (batch_size, channels, pooled_rows, pooled_cols) 的 4D 张量"
   ]
  },
  {
   "cell_type": "markdown",
   "metadata": {},
   "source": [
    "# MaxPooling3D"
   ]
  },
  {
   "cell_type": "code",
   "execution_count": null,
   "metadata": {},
   "outputs": [],
   "source": [
    "keras.layers.MaxPooling3D(pool_size=(2, 2, 2), \n",
    "                          strides=None, \n",
    "                          padding='valid', \n",
    "                          data_format=None)"
   ]
  },
  {
   "cell_type": "markdown",
   "metadata": {},
   "source": [
    "对于 3D（空域，或时空域）数据的最大池化。\n",
    "\n",
    "### 参数\n",
    "\n",
    "pool_size: 3 个整数的元组，缩小（维度 1，维度 2，维度 3）比例的因数。 (2, 2, 2) 会把 3D 输入张量的每个维度缩小一半。\n",
    "\n",
    "strides: 3 个整数的元组，或者是 None。步长值。\n",
    "\n",
    "padding: \"valid\" 或者 \"same\"（区分大小写）。\n",
    "\n",
    "data_format: 一个字符串，channels_last （默认值）或者 channels_first。 输入张量中的维度顺序。 channels_last 代表尺寸是  (batch, spatial_dim1, spatial_dim2, spatial_dim3, channels) 的输入张量， 而  channels_first 代表尺寸是  (batch, channels, spatial_dim1, spatial_dim2, spatial_dim3) 的输入张量。 默认值根据 Keras 配置文件 ~/.keras/keras.json 中的 image_data_format 值来设置。 如果还没有设置过，那么默认值就是 \"channels_last\"。\n",
    "### 输入尺寸\n",
    "\n",
    "如果 data_format='channels_last': 尺寸是  (batch_size, spatial_dim1, spatial_dim2, spatial_dim3, channels) 的 5D 张量\n",
    "\n",
    "如果 data_format='channels_first': 尺寸是  (batch_size, channels, spatial_dim1, spatial_dim2, spatial_dim3) 的 5D 张量\n",
    "### 输出尺寸\n",
    "\n",
    "如果 data_format='channels_last': 尺寸是  (batch_size, pooled_dim1, pooled_dim2, pooled_dim3, channels) 的 5D 张量\n",
    "\n",
    "如果 data_format='channels_first': 尺寸是  (batch_size, channels, pooled_dim1, pooled_dim2, pooled_dim3) 的 5D 张量"
   ]
  },
  {
   "cell_type": "markdown",
   "metadata": {},
   "source": [
    "# AveragePooling1D"
   ]
  },
  {
   "cell_type": "code",
   "execution_count": null,
   "metadata": {},
   "outputs": [],
   "source": [
    "keras.layers.AveragePooling1D(pool_size=2, strides=None, padding='valid')"
   ]
  },
  {
   "cell_type": "markdown",
   "metadata": {},
   "source": [
    "对于时序数据的平均池化。\n",
    "\n",
    "### 参数\n",
    "\n",
    "pool_size: 整数，平均池化的窗口大小。\n",
    "\n",
    "strides: 整数，或者是 None。作为缩小比例的因数。 例如，2 会使得输入张量缩小一半。 如果是 None，那么默认值是 pool_size。\n",
    "\n",
    "padding: \"valid\" 或者 \"same\" （区分大小写）。\n",
    "### 输入尺寸\n",
    "\n",
    "尺寸是 (batch_size, steps, features) 的 3D 张量。\n",
    "\n",
    "### 输出尺寸\n",
    "\n",
    "尺寸是 (batch_size, downsampled_steps, features) 的 3D 张量。"
   ]
  },
  {
   "cell_type": "markdown",
   "metadata": {},
   "source": [
    "# AveragePooling2D"
   ]
  },
  {
   "cell_type": "code",
   "execution_count": null,
   "metadata": {},
   "outputs": [],
   "source": [
    "keras.layers.AveragePooling2D(pool_size=(2, 2), \n",
    "                              strides=None, \n",
    "                              padding='valid',\n",
    "                              data_format=None)"
   ]
  },
  {
   "cell_type": "markdown",
   "metadata": {},
   "source": [
    "对于空域数据的平均池化。\n",
    "\n",
    "### 参数\n",
    "\n",
    "pool_size: 整数，或者 2 个整数元组，（垂直方向，水平方向）缩小比例的因数。（2，2）会把输入张量的两个维度都缩小一半。 如果只使用一个整数，那么两个维度都会使用同样的窗口长度。\n",
    "\n",
    "strides: 整数，整数元组或者是 None。 步长值。 如果是 None，那么默认值是  pool_size。\n",
    "\n",
    "padding: \"valid\" 或者 \"same\" （区分大小写）。\n",
    "\n",
    "data_format: 一个字符串，channels_last （默认值）或者 channels_first。 输入张量中的维度顺序。 channels_last 代表尺寸是 (batch, height, width, channels) 的输入张量，而 channels_first 代表尺寸是 (batch, channels, height, width) 的输入张量。 默认值根据 Keras 配置文件 ~/.keras/keras.json 中的 image_data_format 值来设置。 如果还没有设置过，那么默认值就是 \"channels_last\"。\n",
    "### 输入尺寸\n",
    "\n",
    "如果 data_format='channels_last': 尺寸是 (batch_size, rows, cols, channels) 的 4D 张量\n",
    "\n",
    "如果 data_format='channels_first': 尺寸是 (batch_size, channels, rows, cols) 的 4D 张量\n",
    "### 输出尺寸\n",
    "\n",
    "如果 data_format='channels_last': 尺寸是  (batch_size, pooled_rows, pooled_cols, channels) 的 4D 张量\n",
    "\n",
    "如果 data_format='channels_first': 尺寸是  (batch_size, channels, pooled_rows, pooled_cols) 的 4D 张量"
   ]
  },
  {
   "cell_type": "markdown",
   "metadata": {},
   "source": [
    "# AveragePooling3D"
   ]
  },
  {
   "cell_type": "code",
   "execution_count": null,
   "metadata": {},
   "outputs": [],
   "source": [
    "keras.layers.AveragePooling3D(pool_size=(2, 2, 2), \n",
    "                              strides=None, \n",
    "                              padding='valid', \n",
    "                              data_format=None)"
   ]
  },
  {
   "cell_type": "markdown",
   "metadata": {},
   "source": [
    "对于 3D （空域，或者时空域）数据的平均池化。\n",
    "\n",
    "### 参数\n",
    "\n",
    "pool_size: 3 个整数的元组，缩小（维度 1，维度 2，维度 3）比例的因数。 (2, 2, 2) 会把 3D 输入张量的每个维度缩小一半。\n",
    "\n",
    "strides: 3 个整数的元组，或者是 None。步长值。\n",
    "\n",
    "padding: \"valid\" 或者 \"same\"（区分大小写）。\n",
    "\n",
    "data_format: 一个字符串，channels_last （默认值）或者 channels_first。 输入张量中的维度顺序。 channels_last 代表尺寸是  (batch, spatial_dim1, spatial_dim2, spatial_dim3, channels) 的输入张量， 而  channels_first 代表尺寸是  (batch, channels, spatial_dim1, spatial_dim2, spatial_dim3) 的输入张量。 默认值根据 Keras 配置文件 ~/.keras/keras.json 中的 image_data_format 值来设置。 如果还没有设置过，那么默认值就是 \"channels_last\"。\n",
    "### ### 输入尺寸\n",
    "\n",
    "如果 data_format='channels_last': 尺寸是  (batch_size, spatial_dim1, spatial_dim2, spatial_dim3, channels) 的 5D 张量\n",
    "\n",
    "如果 data_format='channels_first': 尺寸是  (batch_size, channels, spatial_dim1, spatial_dim2, spatial_dim3) 的 5D 张量\n",
    "### 输出尺寸\n",
    "\n",
    "如果 data_format='channels_last': 尺寸是  (batch_size, pooled_dim1, pooled_dim2, pooled_dim3, channels) 的 5D 张量\n",
    "\n",
    "如果 data_format='channels_first': 尺寸是  (batch_size, channels, pooled_dim1, pooled_dim2, pooled_dim3) 的 5D 张量"
   ]
  },
  {
   "cell_type": "markdown",
   "metadata": {},
   "source": [
    "# GlobalMaxPooling1D"
   ]
  },
  {
   "cell_type": "code",
   "execution_count": null,
   "metadata": {},
   "outputs": [],
   "source": [
    "keras.layers.GlobalMaxPooling1D()"
   ]
  },
  {
   "cell_type": "markdown",
   "metadata": {},
   "source": [
    "对于时序数据的全局最大池化。\n",
    "\n",
    "### 输入尺寸\n",
    "\n",
    "尺寸是 (batch_size, steps, features) 的 3D 张量。\n",
    "\n",
    "### 输出尺寸\n",
    "\n",
    "尺寸是 (batch_size, features) 的 2D 张量。"
   ]
  },
  {
   "cell_type": "markdown",
   "metadata": {},
   "source": [
    "# GlobalAveragePooling1D"
   ]
  },
  {
   "cell_type": "code",
   "execution_count": null,
   "metadata": {},
   "outputs": [],
   "source": [
    "keras.layers.GlobalAveragePooling1D()"
   ]
  },
  {
   "cell_type": "markdown",
   "metadata": {},
   "source": [
    "对于时序数据的全局平均池化。\n",
    "\n",
    "### 输入尺寸\n",
    "\n",
    "尺寸是 (batch_size, steps, features) 的 3D 张量。\n",
    "\n",
    "### 输出尺寸\n",
    "\n",
    "尺寸是 (batch_size, features) 的 2D 张量。"
   ]
  },
  {
   "cell_type": "markdown",
   "metadata": {},
   "source": [
    "# GlobalMaxPooling2D"
   ]
  },
  {
   "cell_type": "code",
   "execution_count": null,
   "metadata": {},
   "outputs": [],
   "source": [
    "keras.layers.GlobalMaxPooling2D(data_format=None)"
   ]
  },
  {
   "cell_type": "markdown",
   "metadata": {},
   "source": [
    "对于空域数据的全局最大池化。\n",
    "\n",
    "### 参数\n",
    "\n",
    "data_format: 一个字符串，channels_last （默认值）或者 channels_first。 输入张量中的维度顺序。 channels_last 代表尺寸是 (batch, height, width, channels) 的输入张量，而 channels_first 代表尺寸是 (batch, channels, height, width) 的输入张量。 默认值根据 Keras 配置文件 ~/.keras/keras.json 中的 image_data_format 值来设置。 如果还没有设置过，那么默认值就是 \"channels_last\"。\n",
    "### 输入尺寸\n",
    "\n",
    "如果 data_format='channels_last': 尺寸是 (batch_size, rows, cols, channels) 的 4D 张量\n",
    "\n",
    "如果 data_format='channels_first': 尺寸是 (batch_size, channels, rows, cols) 的 4D 张量\n",
    "### 输出尺寸\n",
    "\n",
    "尺寸是 (batch_size, channels) 的 2D 张量"
   ]
  },
  {
   "cell_type": "markdown",
   "metadata": {},
   "source": [
    "# GlobalAveragePooling2D"
   ]
  },
  {
   "cell_type": "code",
   "execution_count": null,
   "metadata": {},
   "outputs": [],
   "source": [
    "keras.layers.GlobalAveragePooling2D(data_format=None)"
   ]
  },
  {
   "cell_type": "markdown",
   "metadata": {},
   "source": [
    "对于空域数据的全局平均池化。\n",
    "\n",
    "### 参数\n",
    "\n",
    "data_format: 一个字符串，channels_last （默认值）或者 channels_first。 输入张量中的维度顺序。 channels_last 代表尺寸是 (batch, height, width, channels) 的输入张量，而 channels_first 代表尺寸是 (batch, channels, height, width) 的输入张量。 默认值根据 Keras 配置文件 ~/.keras/keras.json 中的 image_data_format 值来设置。 如果还没有设置过，那么默认值就是 \"channels_last\"。\n",
    "### 输入尺寸\n",
    "\n",
    "如果 data_format='channels_last': 尺寸是 (batch_size, rows, cols, channels) 的 4D 张量\n",
    "    \n",
    "如果 data_format='channels_first': 尺寸是 (batch_size, channels, rows, cols) 的 4D 张量\n",
    "### 输出尺寸\n",
    "\n",
    "尺寸是 (batch_size, channels) 的 2D 张量"
   ]
  },
  {
   "cell_type": "markdown",
   "metadata": {},
   "source": [
    "# GlobalMaxPooling3D"
   ]
  },
  {
   "cell_type": "code",
   "execution_count": null,
   "metadata": {},
   "outputs": [],
   "source": [
    "keras.layers.GlobalMaxPooling3D(data_format=None)"
   ]
  },
  {
   "cell_type": "markdown",
   "metadata": {},
   "source": [
    "对于 3D 数据的全局最大池化。\n",
    "\n",
    "### 参数\n",
    "\n",
    "data_format: 一个字符串，channels_last （默认值）或者 channels_first。 输入张量中的维度顺序。 channels_last 代表尺寸是  (batch, spatial_dim1, spatial_dim2, spatial_dim3, channels) 的输入张量，而  channels_first 代表尺寸是  (batch, channels, spatial_dim1, spatial_dim2, spatial_dim3) 的输入张量。 默认值根据 Keras 配置文件 ~/.keras/keras.json 中的 image_data_format 值来设置。 如果还没有设置过，那么默认值就是 \"channels_last\"。\n",
    "### 输入尺寸\n",
    "\n",
    "如果 data_format='channels_last': 尺寸是  (batch_size, spatial_dim1, spatial_dim2, spatial_dim3, channels) 的 5D 张量\n",
    "\n",
    "如果 data_format='channels_first': 尺寸是  (batch_size, channels, spatial_dim1, spatial_dim2, spatial_dim3) 的 5D 张量\n",
    "### 输出尺寸\n",
    "\n",
    "尺寸是 (batch_size, channels) 的 2D 张量\n",
    "\n"
   ]
  },
  {
   "cell_type": "markdown",
   "metadata": {},
   "source": [
    "# GlobalAveragePooling3D"
   ]
  },
  {
   "cell_type": "code",
   "execution_count": null,
   "metadata": {},
   "outputs": [],
   "source": [
    "keras.layers.GlobalAveragePooling3D(data_format=None)"
   ]
  },
  {
   "cell_type": "markdown",
   "metadata": {},
   "source": [
    "对于 3D 数据的全局平均池化。\n",
    "\n",
    "### 参数\n",
    "\n",
    "data_format: 一个字符串，channels_last （默认值）或者 channels_first。 输入张量中的维度顺序。 channels_last 代表尺寸是  (batch, spatial_dim1, spatial_dim2, spatial_dim3, channels) 的输入张量，而  channels_first 代表尺寸是  (batch, channels, spatial_dim1, spatial_dim2, spatial_dim3) 的输入张量。 默认值根据 Keras 配置文件 ~/.keras/keras.json 中的 image_data_format 值来设置。 如果还没有设置过，那么默认值就是 \"channels_last\"。\n",
    "### 输入尺寸\n",
    "\n",
    "如果 data_format='channels_last': 尺寸是  (batch_size, spatial_dim1, spatial_dim2, spatial_dim3, channels) 的 5D 张量\n",
    "\n",
    "如果 data_format='channels_first': 尺寸是  (batch_size, channels, spatial_dim1, spatial_dim2, spatial_dim3) 的 5D 张量\n",
    "### 输出尺寸\n",
    "\n",
    "尺寸是 (batch_size, channels) 的 2D 张量"
   ]
  },
  {
   "cell_type": "code",
   "execution_count": null,
   "metadata": {},
   "outputs": [],
   "source": []
  },
  {
   "cell_type": "code",
   "execution_count": null,
   "metadata": {},
   "outputs": [],
   "source": []
  },
  {
   "cell_type": "code",
   "execution_count": null,
   "metadata": {},
   "outputs": [],
   "source": []
  }
 ],
 "metadata": {
  "kernelspec": {
   "display_name": "Python 3",
   "language": "python",
   "name": "python3"
  },
  "language_info": {
   "codemirror_mode": {
    "name": "ipython",
    "version": 3
   },
   "file_extension": ".py",
   "mimetype": "text/x-python",
   "name": "python",
   "nbconvert_exporter": "python",
   "pygments_lexer": "ipython3",
   "version": "3.6.5"
  }
 },
 "nbformat": 4,
 "nbformat_minor": 2
}
