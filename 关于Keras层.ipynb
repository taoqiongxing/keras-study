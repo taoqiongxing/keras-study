{
 "cells": [
  {
   "cell_type": "markdown",
   "metadata": {},
   "source": [
    "所有Keras层都有很多共同的函数："
   ]
  },
  {
   "cell_type": "markdown",
   "metadata": {},
   "source": [
    "layer.get_weights(): 以含有Numpy矩阵的列表形式返回层的权重。\n",
    "    \n",
    "layer.set_weights(weights): 从含有Numpy矩阵的列表中设置层的权重（与get_weights的输出形状相同）。\n",
    "    \n",
    "layer.get_config(): 返回包含层配置的字典。此图层可以通过以下方式重置："
   ]
  },
  {
   "cell_type": "code",
   "execution_count": null,
   "metadata": {},
   "outputs": [],
   "source": [
    "layers=Dense(32)\n",
    "config=layers.get_config()\n",
    "reconstructed_layer=Dense.from_config(config)"
   ]
  },
  {
   "cell_type": "markdown",
   "metadata": {},
   "source": [
    "或:"
   ]
  },
  {
   "cell_type": "code",
   "execution_count": null,
   "metadata": {},
   "outputs": [],
   "source": [
    "from keras import layers\n",
    "\n",
    "config=layer.get_config()\n",
    "layer=layers.deserialize({'class_name':layer.__class__.__name__,\n",
    "                         'config':config})"
   ]
  },
  {
   "cell_type": "markdown",
   "metadata": {},
   "source": [
    "如果一个层具有单个节点 (i.e. 如果它不是共享层), 你可以得到它的输入张量，输出张量，输入尺寸和输出尺寸:"
   ]
  },
  {
   "cell_type": "markdown",
   "metadata": {},
   "source": [
    "layer.input\n",
    "\n",
    "layer.output\n",
    "\n",
    "layer.input_shape\n",
    "\n",
    "layer.output_shape"
   ]
  },
  {
   "cell_type": "markdown",
   "metadata": {},
   "source": [
    "如果层有多个节点，可以使用以下函数:"
   ]
  },
  {
   "cell_type": "markdown",
   "metadata": {},
   "source": [
    "layer.get_input_at(node_index)\n",
    "\n",
    "layer.get_output_at(node_index)\n",
    "\n",
    "layer.get_input_shape_at(node_index)\n",
    "\n",
    "layer.get_output_shape_at(node_index)"
   ]
  },
  {
   "cell_type": "code",
   "execution_count": null,
   "metadata": {},
   "outputs": [],
   "source": []
  }
 ],
 "metadata": {
  "kernelspec": {
   "display_name": "Python 3",
   "language": "python",
   "name": "python3"
  },
  "language_info": {
   "codemirror_mode": {
    "name": "ipython",
    "version": 3
   },
   "file_extension": ".py",
   "mimetype": "text/x-python",
   "name": "python",
   "nbconvert_exporter": "python",
   "pygments_lexer": "ipython3",
   "version": "3.6.5"
  }
 },
 "nbformat": 4,
 "nbformat_minor": 2
}
