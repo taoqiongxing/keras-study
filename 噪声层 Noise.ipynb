{
 "cells": [
  {
   "cell_type": "markdown",
   "metadata": {},
   "source": [
    "# GaussianNoise"
   ]
  },
  {
   "cell_type": "code",
   "execution_count": null,
   "metadata": {},
   "outputs": [],
   "source": [
    "keras.layers.GaussianNoise(stddev)"
   ]
  },
  {
   "cell_type": "markdown",
   "metadata": {},
   "source": [
    "应用以 0 为中心的加性高斯噪声。\n",
    "\n",
    "这对缓解过拟合很有用 （你可以将其视为随机数据增强的一种形式）。 高斯噪声（GS）是对真实输入的腐蚀过程的自然选择。\n",
    "\n",
    "由于它是一个正则化层，因此它只在训练时才被激活。\n",
    "\n",
    "### 参数\n",
    "\n",
    "stddev: float，噪声分布的标准差。\n",
    "### 输入尺寸\n",
    "\n",
    "可以是任意的。 如果将该层作为模型的第一层，则需要指定 input_shape 参数 （整数元组，不包含样本数量的维度）。\n",
    "\n",
    "### 输出尺寸\n",
    "\n",
    "与输入相同。"
   ]
  },
  {
   "cell_type": "markdown",
   "metadata": {},
   "source": [
    "# GaussianDropout"
   ]
  },
  {
   "cell_type": "code",
   "execution_count": null,
   "metadata": {},
   "outputs": [],
   "source": [
    "keras.layers.GaussianDropout(rate)"
   ]
  },
  {
   "cell_type": "markdown",
   "metadata": {},
   "source": [
    "应用以 1 为中心的 乘性高斯噪声。\n",
    "\n",
    "由于它是一个正则化层，因此它只在训练时才被激活。\n",
    "\n",
    "### 参数\n",
    "\n",
    "rate: float，丢弃概率（与 Dropout 相同）。 这个乘性噪声的标准差为  sqrt(rate / (1 - rate))。\n",
    "### 输入尺寸\n",
    "\n",
    "可以是任意的。 如果将该层作为模型的第一层，则需要指定 input_shape 参数 （整数元组，不包含样本数量的维度）。\n",
    "\n",
    "### 输出尺寸\n",
    "\n",
    "与输入相同。"
   ]
  },
  {
   "cell_type": "markdown",
   "metadata": {},
   "source": [
    "# AlphaDropout"
   ]
  },
  {
   "cell_type": "code",
   "execution_count": null,
   "metadata": {},
   "outputs": [],
   "source": [
    "keras.layers.AlphaDropout(rate, noise_shape=None, seed=None)"
   ]
  },
  {
   "cell_type": "markdown",
   "metadata": {},
   "source": [
    "将 Alpha Dropout 应用到输入。\n",
    "\n",
    "Alpha Dropout是一种 Dropout，它保持输入的平均值和方差与原来的值不变， 已在 dropout 之后仍然保证数据的自规范性。 通过随机将激活设置为负饱和值，Alpha Dropout 非常适合按比例缩放的指数线性单元（SELU）。\n",
    "\n",
    "### 参数\n",
    "\n",
    "rate: float，丢弃概率（与 Dropout 相同）。 这个乘性噪声的标准差为  sqrt(rate / (1 - rate))。\n",
    "\n",
    "seed: 用作随机种子的 Python 整数。\n",
    "### 输入尺寸\n",
    "\n",
    "可以是任意的。 如果将该层作为模型的第一层，则需要指定 input_shape 参数 （整数元组，不包含样本数量的维度）。\n",
    "\n",
    "### 输出尺寸\n",
    "\n",
    "与输入相同。"
   ]
  },
  {
   "cell_type": "code",
   "execution_count": null,
   "metadata": {},
   "outputs": [],
   "source": []
  },
  {
   "cell_type": "code",
   "execution_count": null,
   "metadata": {},
   "outputs": [],
   "source": []
  },
  {
   "cell_type": "code",
   "execution_count": null,
   "metadata": {},
   "outputs": [],
   "source": []
  }
 ],
 "metadata": {
  "kernelspec": {
   "display_name": "Python 3",
   "language": "python",
   "name": "python3"
  },
  "language_info": {
   "codemirror_mode": {
    "name": "ipython",
    "version": 3
   },
   "file_extension": ".py",
   "mimetype": "text/x-python",
   "name": "python",
   "nbconvert_exporter": "python",
   "pygments_lexer": "ipython3",
   "version": "3.6.5"
  }
 },
 "nbformat": 4,
 "nbformat_minor": 2
}
