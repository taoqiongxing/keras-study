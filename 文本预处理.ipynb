{
 "cells": [
  {
   "cell_type": "markdown",
   "metadata": {},
   "source": [
    "# Tokenizer"
   ]
  },
  {
   "cell_type": "code",
   "execution_count": null,
   "metadata": {},
   "outputs": [],
   "source": [
    "keras.preprocessing.text.Tokenizer(num_words=None, \n",
    "                                   filters='!\"#$%&()*+,-./:;<=>?@[\\]^_`{|}~', \n",
    "                                   lower=True, \n",
    "                                   split=' ', \n",
    "                                   char_level=False, \n",
    "                                   oov_token=None)"
   ]
  },
  {
   "cell_type": "markdown",
   "metadata": {},
   "source": [
    "文本标记实用类。\n",
    "\n",
    "该类允许使用两种方法向量化一个文本语料库： 将每个文本转化为一个整数序列（每个整数都是词典中标记的索引）； 或者将其转化为一个向量，其中每个标记的系数可以是二进制值、词频、TF-IDF权重等。"
   ]
  },
  {
   "cell_type": "markdown",
   "metadata": {},
   "source": [
    "### 参数"
   ]
  },
  {
   "cell_type": "markdown",
   "metadata": {},
   "source": [
    "num_words: 需要保留的最大词数，基于词频。只有最常出现的 num_words 词会被保留。\n",
    "\n",
    "filters: 一个字符串，其中每个元素是一个将从文本中过滤掉的字符。默认值是所有标点符号，加上制表符和换行符，减去 ' 字符。\n",
    "\n",
    "lower: 布尔值。是否将文本转换为小写。\n",
    "\n",
    "split: 字符串。按该字符串切割文本。\n",
    "\n",
    "char_level: 如果为 True，则每个字符都将被视为标记。\n",
    "\n",
    "oov_token: 如果给出，它将被添加到 word_index 中，并用于在 text_to_sequence 调用期间替换词汇表外的单词。"
   ]
  },
  {
   "cell_type": "markdown",
   "metadata": {},
   "source": [
    "默认情况下，删除所有标点符号，将文本转换为空格分隔的单词序列（单词可能包含 ' 字符）。 这些序列然后被分割成标记列表。然后它们将被索引或向量化。"
   ]
  },
  {
   "cell_type": "markdown",
   "metadata": {},
   "source": [
    "0 是不会被分配给任何单词的保留索引。"
   ]
  },
  {
   "cell_type": "markdown",
   "metadata": {},
   "source": [
    "# hashing_trick"
   ]
  },
  {
   "cell_type": "code",
   "execution_count": null,
   "metadata": {},
   "outputs": [],
   "source": [
    "keras.preprocessing.text.hashing_trick(text, \n",
    "                                       n, \n",
    "                                       hash_function=None, \n",
    "                                       filters='!\"#$%&()*+,-./:;<=>?@[\\]^_`{|}~', \n",
    "                                       lower=True, split=' ')"
   ]
  },
  {
   "cell_type": "markdown",
   "metadata": {},
   "source": [
    "将文本转换为固定大小散列空间中的索引序列。"
   ]
  },
  {
   "cell_type": "markdown",
   "metadata": {},
   "source": [
    "### 参数"
   ]
  },
  {
   "cell_type": "markdown",
   "metadata": {},
   "source": [
    "text: 输入文本（字符串）。\n",
    "    \n",
    "n: 散列空间维度。\n",
    "    \n",
    "hash_function: 默认为 python 散列函数，可以是 'md5' 或任意接受输入字符串并返回整数的函数。注意 'hash' 不是稳定的散列函数，所以它在不同的运行中不一致，而 'md5' 是一个稳定的散列函数。\n",
    "\n",
    "filters: 要过滤的字符列表（或连接），如标点符号。默认：!\"#$%&()*+,-./:;<=>?@[\\]^_{|}~，包含基本标点符号，制表符和换行符。\n",
    "\n",
    "lower: 布尔值。是否将文本转换为小写。\n",
    "\n",
    "split: 字符串。按该字符串切割文本。"
   ]
  },
  {
   "cell_type": "markdown",
   "metadata": {},
   "source": [
    "### 返回"
   ]
  },
  {
   "cell_type": "markdown",
   "metadata": {},
   "source": [
    "整数词索引列表（唯一性无法保证）。\n",
    "\n",
    "0 是不会被分配给任何单词的保留索引。\n",
    "\n",
    "由于哈希函数可能发生冲突，可能会将两个或更多字分配给同一索引。 碰撞的概率与散列空间的维度和不同对象的数量有关。"
   ]
  },
  {
   "cell_type": "markdown",
   "metadata": {},
   "source": [
    "# one_hot"
   ]
  },
  {
   "cell_type": "code",
   "execution_count": null,
   "metadata": {},
   "outputs": [],
   "source": [
    "keras.preprocessing.text.one_hot(text, \n",
    "                                 n, \n",
    "                                 filters='!\"#$%&()*+,-./:;<=>?@[\\]^_`{|}~', \n",
    "                                 lower=True, \n",
    "                                 split=' ')"
   ]
  },
  {
   "cell_type": "markdown",
   "metadata": {},
   "source": [
    "One-hot 将文本编码为大小为 n 的单词索引列表。\n",
    "\n",
    "### 参数\n",
    "\n",
    "text: 输入文本（字符串）。\n",
    "\n",
    "n: 整数。词汇表尺寸。\n",
    "\n",
    "filters: 要过滤的字符列表（或连接），如标点符号。默认：!\"#$%&()*+,-./:;<=>?@[\\]^_{|}~，包含基本标点符号，制表符和换行符。\n",
    "\n",
    "lower: 布尔值。是否将文本转换为小写。\n",
    "\n",
    "split: 字符串。按该字符串切割文本。\n",
    "\n"
   ]
  },
  {
   "cell_type": "markdown",
   "metadata": {},
   "source": [
    "### 返回\n",
    "\n",
    "[1, n] 之间的整数列表。每个整数编码一个词（唯一性无法保证）。"
   ]
  },
  {
   "cell_type": "markdown",
   "metadata": {},
   "source": [
    "# text_to_word_sequence"
   ]
  },
  {
   "cell_type": "code",
   "execution_count": null,
   "metadata": {},
   "outputs": [],
   "source": [
    "keras.preprocessing.text.text_to_word_sequence(text, \n",
    "                                               filters='!\"#$%&()*+,-./:;<=>?@[\\]^_`{|}~', \n",
    "                                               lower=True, \n",
    "                                               split=' ')"
   ]
  },
  {
   "cell_type": "markdown",
   "metadata": {},
   "source": [
    "将文本转换为单词（或标记）的序列。\n",
    "\n",
    "### 参数\n",
    "\n",
    "text: 输入文本（字符串）。\n",
    "\n",
    "filters: 要过滤的字符列表（或连接），如标点符号。默认：!\"#$%&()*+,-./:;<=>?@[\\]^_{|}~，包含基本标点符号，制表符和换行符。\n",
    "\n",
    "lower: 布尔值。是否将文本转换为小写。\n",
    "\n",
    "split: 字符串。按该字符串切割文本。"
   ]
  },
  {
   "cell_type": "markdown",
   "metadata": {},
   "source": [
    "### 返回\n",
    "\n",
    "词或标记的列表。"
   ]
  },
  {
   "cell_type": "code",
   "execution_count": null,
   "metadata": {},
   "outputs": [],
   "source": []
  },
  {
   "cell_type": "code",
   "execution_count": null,
   "metadata": {},
   "outputs": [],
   "source": []
  },
  {
   "cell_type": "code",
   "execution_count": null,
   "metadata": {},
   "outputs": [],
   "source": []
  },
  {
   "cell_type": "code",
   "execution_count": null,
   "metadata": {},
   "outputs": [],
   "source": []
  },
  {
   "cell_type": "code",
   "execution_count": 17,
   "metadata": {},
   "outputs": [
    {
     "data": {
      "text/plain": [
       "['今天是星期五，明天就是周末啦', '真开心']"
      ]
     },
     "execution_count": 17,
     "metadata": {},
     "output_type": "execute_result"
    }
   ],
   "source": [
    "keras.preprocessing.text.text_to_word_sequence('今天是星期五，明天就是周末啦,真开心.', \n",
    "                                               filters='!\"#$%&()*+,-./:;<=>?@[\\]^_`{|}~', \n",
    "                                               lower=True, \n",
    "                                               split=' ')"
   ]
  },
  {
   "cell_type": "code",
   "execution_count": 1,
   "metadata": {},
   "outputs": [
    {
     "name": "stderr",
     "output_type": "stream",
     "text": [
      "C:\\Users\\Ax\\Anaconda3\\lib\\site-packages\\h5py\\__init__.py:36: FutureWarning: Conversion of the second argument of issubdtype from `float` to `np.floating` is deprecated. In future, it will be treated as `np.float64 == np.dtype(float).type`.\n",
      "  from ._conv import register_converters as _register_converters\n",
      "Using TensorFlow backend.\n"
     ]
    }
   ],
   "source": [
    "import keras"
   ]
  },
  {
   "cell_type": "code",
   "execution_count": 9,
   "metadata": {},
   "outputs": [],
   "source": [
    "import keras\n",
    "\n",
    "aaa=keras.preprocessing.text.hashing_trick('今天是星期五，明天就是周末啦，真开心！', \n",
    "                                       10, \n",
    "                                       hash_function=None, \n",
    "                                       filters='!\"#$%&()*+,-./:;<=>?@[\\]^_`{|}~', \n",
    "                                       lower=True, \n",
    "                                       split=' ')"
   ]
  },
  {
   "cell_type": "code",
   "execution_count": 10,
   "metadata": {},
   "outputs": [
    {
     "data": {
      "text/plain": [
       "<keras_preprocessing.text.Tokenizer at 0x246ff12a9e8>"
      ]
     },
     "execution_count": 10,
     "metadata": {},
     "output_type": "execute_result"
    }
   ],
   "source": [
    "keras.preprocessing.text.Tokenizer(num_words=3, \n",
    "                                   filters='!\"#$%&()*+,-./:;<=>?@[\\]^_`{|}~', \n",
    "                                   lower=True, \n",
    "                                   split=' ', \n",
    "                                   char_level=False, \n",
    "                                   oov_token=None)"
   ]
  },
  {
   "cell_type": "code",
   "execution_count": 11,
   "metadata": {},
   "outputs": [],
   "source": [
    "text='Hello world!like you'"
   ]
  },
  {
   "cell_type": "code",
   "execution_count": 12,
   "metadata": {},
   "outputs": [
    {
     "data": {
      "text/plain": [
       "[3, 3, 2, 3]"
      ]
     },
     "execution_count": 12,
     "metadata": {},
     "output_type": "execute_result"
    }
   ],
   "source": [
    "aaa"
   ]
  },
  {
   "cell_type": "code",
   "execution_count": null,
   "metadata": {},
   "outputs": [],
   "source": []
  }
 ],
 "metadata": {
  "kernelspec": {
   "display_name": "Python 3",
   "language": "python",
   "name": "python3"
  },
  "language_info": {
   "codemirror_mode": {
    "name": "ipython",
    "version": 3
   },
   "file_extension": ".py",
   "mimetype": "text/x-python",
   "name": "python",
   "nbconvert_exporter": "python",
   "pygments_lexer": "ipython3",
   "version": "3.6.5"
  }
 },
 "nbformat": 4,
 "nbformat_minor": 2
}
