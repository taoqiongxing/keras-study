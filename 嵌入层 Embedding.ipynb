{
 "cells": [
  {
   "cell_type": "markdown",
   "metadata": {},
   "source": [
    "# Embedding"
   ]
  },
  {
   "cell_type": "code",
   "execution_count": null,
   "metadata": {},
   "outputs": [],
   "source": [
    "keras.layers.Embedding(input_dim, \n",
    "                       output_dim, \n",
    "                       embeddings_initializer='uniform', \n",
    "                       embeddings_regularizer=None, \n",
    "                       activity_regularizer=None, \n",
    "                       embeddings_constraint=None, \n",
    "                       mask_zero=False, \n",
    "                       input_length=None)"
   ]
  },
  {
   "cell_type": "markdown",
   "metadata": {},
   "source": [
    "将正整数（索引值）转换为固定尺寸的稠密向量。 例如： [[4], [20]] -> [[0.25, 0.1], [0.6, -0.2]]\n",
    "\n",
    "该层只能用作模型中的第一层。"
   ]
  },
  {
   "cell_type": "code",
   "execution_count": null,
   "metadata": {},
   "outputs": [],
   "source": [
    "model=Sequential()\n",
    "model.add(Embedding(1000,64,input_length=10))\n",
    "#模型将输入一个大小为（batch，input_length）的整数矩阵。\n",
    "#输入中最大的整数（即词索引）不应该大于999（词汇表大小）\n",
    "#现在model.output_shape==(None,10,64),其中None是batch的维度\n",
    "\n",
    "input_array=np.random.randint(1000,size=(32,10))\n",
    "\n",
    "model.compile('rmsprop','mse')\n",
    "output_array=model.predict(input_array)\n",
    "assert output_array.shape==(32,10,64)"
   ]
  },
  {
   "cell_type": "markdown",
   "metadata": {},
   "source": [
    "### 参数\n",
    "\n",
    "input_dim: int > 0。词汇表大小， 即，最大整数 index + 1。\n",
    "\n",
    "output_dim: int >= 0。词向量的维度。\n",
    "\n",
    "embeddings_initializer: embeddings 矩阵的初始化方法 (详见 initializers)。\n",
    "\n",
    "embeddings_regularizer: embeddings matrix 的正则化方法 (详见 regularizer)。\n",
    "\n",
    "embeddings_constraint: embeddings matrix 的约束函数 (详见 constraints)。\n",
    "\n",
    "mask_zero: 是否把 0 看作为一个应该被遮蔽的特殊的 \"padding\" 值。 这对于可变长的 循环神经网络层 十分有用。 如果设定为 True，那么接下来的所有层都必须支持 masking，否则就会抛出异常。 如果 mask_zero 为 True，作为结果，索引 0 就不能被用于词汇表中 （input_dim 应该与 vocabulary + 1 大小相同）。\n",
    "\n",
    "input_length: 输入序列的长度，当它是固定的时。 如果你需要连接 Flatten 和 Dense 层，则这个参数是必须的 （没有它，dense 层的输出尺寸就无法计算）。"
   ]
  },
  {
   "cell_type": "markdown",
   "metadata": {},
   "source": [
    "### 输入尺寸\n",
    "\n",
    "尺寸为 (batch_size, sequence_length) 的 2D 张量。\n",
    "\n",
    "### 输出尺寸\n",
    "\n",
    "尺寸为 (batch_size, sequence_length, output_dim) 的 3D 张量。"
   ]
  },
  {
   "cell_type": "code",
   "execution_count": null,
   "metadata": {},
   "outputs": [],
   "source": []
  }
 ],
 "metadata": {
  "kernelspec": {
   "display_name": "Python 3",
   "language": "python",
   "name": "python3"
  },
  "language_info": {
   "codemirror_mode": {
    "name": "ipython",
    "version": 3
   },
   "file_extension": ".py",
   "mimetype": "text/x-python",
   "name": "python",
   "nbconvert_exporter": "python",
   "pygments_lexer": "ipython3",
   "version": "3.6.5"
  }
 },
 "nbformat": 4,
 "nbformat_minor": 2
}
