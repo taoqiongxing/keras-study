{
 "cells": [
  {
   "cell_type": "markdown",
   "metadata": {},
   "source": [
    "# LocallyConnected1D"
   ]
  },
  {
   "cell_type": "code",
   "execution_count": null,
   "metadata": {},
   "outputs": [],
   "source": [
    "keras.layers.LocallyConnected1D(filters, \n",
    "                                kernel_size, \n",
    "                                strides=1, \n",
    "                                padding='valid', \n",
    "                                data_format=None, \n",
    "                                activation=None, \n",
    "                                use_bias=True, \n",
    "                                kernel_initializer='glorot_uniform', \n",
    "                                bias_initializer='zeros', \n",
    "                                kernel_regularizer=None, \n",
    "                                bias_regularizer=None, \n",
    "                                activity_regularizer=None, \n",
    "                                kernel_constraint=None, \n",
    "                                bias_constraint=None)"
   ]
  },
  {
   "cell_type": "markdown",
   "metadata": {},
   "source": [
    "1D 输入的局部连接层。\n",
    "\n",
    "LocallyConnected1D 层与 Conv1D 层的工作方式相同，除了权值不共享外， 也就是说，在输入的每个不同部分应用不同的一组过滤器。"
   ]
  },
  {
   "cell_type": "code",
   "execution_count": null,
   "metadata": {},
   "outputs": [],
   "source": [
    "#将长度为3的非共享权重1D卷积应用于具有10个时间步长的序列，并使用64个输出滤波器\n",
    "model=Sequential()\n",
    "model.add(LocallyConnected1D(64,3,input_shape=(10,32)))\n",
    "#现在model.output_shape==(None,8,64)\n",
    "#在上面再添加一个新的conv1d\n",
    "model.add(LocallyConnected1D(32,3))\n",
    "#现在model.output_shape==(None,6,32)"
   ]
  },
  {
   "cell_type": "markdown",
   "metadata": {},
   "source": [
    "### 参数\n",
    "\n",
    "filters: 整数，输出空间的维度 （即卷积中滤波器的输出数量）。\n",
    "    \n",
    "kernel_size: 一个整数，或者单个整数表示的元组或列表， 指明 1D 卷积窗口的长度。\n",
    "    \n",
    "strides: 一个整数，或者单个整数表示的元组或列表， 指明卷积的步长。 指定任何 stride 值 != 1 与指定 dilation_rate 值 != 1 两者不兼容。\n",
    "\n",
    "padding: 当前仅支持 \"valid\" (大小写敏感)。 \"same\" 可能会在未来支持。\n",
    "    \n",
    "activation: 要使用的激活函数 (详见 activations)。 如果你不指定，则不使用激活函数 (即线性激活： a(x) = x)。\n",
    "\n",
    "use_bias: 布尔值，该层是否使用偏置向量。\n",
    "    \n",
    "kernel_initializer: kernel 权值矩阵的初始化器 (详见 initializers)。\n",
    "\n",
    "bias_initializer: 偏置向量的初始化器 (详见 initializers)。\n",
    "\n",
    "kernel_regularizer: 运用到 kernel 权值矩阵的正则化函数 (详见 regularizer)。\n",
    "\n",
    "bias_regularizer: 运用到偏置向量的正则化函数 (详见 regularizer)。\n",
    "\n",
    "activity_regularizer: 运用到层输出（它的激活值）的正则化函数 (详见 regularizer)。\n",
    "\n",
    "kernel_constraint: 运用到 kernel 权值矩阵的约束函数 (详见 constraints)。\n",
    "\n",
    "bias_constraint: 运用到偏置向量的约束函数 (详见 constraints)。\n",
    "### 输入尺寸\n",
    "\n",
    "3D 张量，尺寸为： (batch_size, steps, input_dim)。\n",
    "\n",
    "### 输出尺寸\n",
    "\n",
    "3D 张量 ，尺寸为：(batch_size, new_steps, filters)， steps 值可能因填充或步长而改变。"
   ]
  },
  {
   "cell_type": "markdown",
   "metadata": {},
   "source": [
    "# LocallyConnected2D"
   ]
  },
  {
   "cell_type": "code",
   "execution_count": null,
   "metadata": {},
   "outputs": [],
   "source": [
    "keras.layers.LocallyConnected2D(filters, \n",
    "                                kernel_size, \n",
    "                                strides=(1, 1), \n",
    "                                padding='valid', \n",
    "                                data_format=None, \n",
    "                                activation=None, \n",
    "                                use_bias=True, \n",
    "                                kernel_initializer='glorot_uniform', \n",
    "                                bias_initializer='zeros', \n",
    "                                kernel_regularizer=None, \n",
    "                                bias_regularizer=None, \n",
    "                                activity_regularizer=None, \n",
    "                                kernel_constraint=None, \n",
    "                                bias_constraint=None)"
   ]
  },
  {
   "cell_type": "markdown",
   "metadata": {},
   "source": [
    "2D 输入的局部连接层。\n",
    "\n",
    "LocallyConnected2D 层与 Conv2D 层的工作方式相同，除了权值不共享外， 也就是说，在输入的每个不同部分应用不同的一组过滤器。"
   ]
  },
  {
   "cell_type": "code",
   "execution_count": null,
   "metadata": {},
   "outputs": [],
   "source": [
    "# 在 32x32 图像上应用 3x3 非共享权值和64个输出过滤器的卷积\n",
    "# 数据格式 `data_format=\"channels_last\"`：\n",
    "model=Sequential()\n",
    "model.add(LocallyConnected2D(64,(3,3),input_shape=(32,32,3)))\n",
    "# 现在 model.output_shape == (None, 30, 30, 64)\n",
    "# 注意这一层的参数数量为 (30*30)*(3*3*3*64) + (30*30)*64\n",
    "\n",
    "# 在上面再加一个 3x3 非共享权值和 32 个输出滤波器的卷积：\n",
    "model.add(LocallyConnected2D(32,(3,3)))\n",
    "# 现在 model.output_shape == (None, 28, 28, 32)"
   ]
  },
  {
   "cell_type": "markdown",
   "metadata": {},
   "source": [
    "### 参数\n",
    "\n",
    "filters: 整数，输出空间的维度 （即卷积中滤波器的输出数量）。\n",
    "\n",
    "kernel_size: 一个整数，或者 2 个整数表示的元组或列表， 指明 2D 卷积窗口的宽度和高度。 可以是一个整数，为所有空间维度指定相同的值。\n",
    "\n",
    "strides: 一个整数，或者 2 个整数表示的元组或列表， 指明卷积沿宽度和高度方向的步长。 可以是一个整数，为所有空间维度指定相同的值。\n",
    "\n",
    "padding: 当前仅支持 \"valid\" (大小写敏感)。 \"same\" 可能会在未来支持。\n",
    "\n",
    "data_format: 字符串， channels_last (默认) 或 channels_first 之一。 输入中维度的顺序。 \n",
    "channels_last 对应输入尺寸为 (batch, height, width, channels)， channels_first 对应输入尺寸为 (batch, channels, height, width)。 它默认为从 Keras 配置文件 ~/.keras/keras.json 中 找到的 image_data_format 值。 如果你从未设置它，将使用 \"channels_last\"。\n",
    "\n",
    "activation: 要使用的激活函数 (详见 activations)。 如果你不指定，则不使用激活函数 (即线性激活： a(x) = x)。\n",
    "\n",
    "use_bias: 布尔值，该层是否使用偏置向量。\n",
    "\n",
    "kernel_initializer: kernel 权值矩阵的初始化器 (详见 initializers)。\n",
    "\n",
    "bias_initializer: 偏置向量的初始化器 (详见 initializers)。\n",
    "\n",
    "kernel_regularizer: 运用到 kernel 权值矩阵的正则化函数 (详见 regularizer)。\n",
    "\n",
    "bias_regularizer: 运用到偏置向量的正则化函数 (详见 regularizer)。\n",
    "\n",
    "activity_regularizer: 运用到层输出（它的激活值）的正则化函数 (详见 regularizer)。\n",
    "\n",
    "kernel_constraint: 运用到 kernel 权值矩阵的约束函数 (详见 constraints)。\n",
    "\n",
    "bias_constraint: 运用到偏置向量的约束函数 (详见 constraints)。\n",
    "### 输入尺寸\n",
    "\n",
    "4D 张量，尺寸为： (samples, channels, rows, cols)，如果 data_format='channels_first'； 或者 4D 张量，尺寸为： (samples, rows, cols, channels)，如果 data_format='channels_last'。\n",
    "\n",
    "### 输出尺寸\n",
    "\n",
    "4D 张量，尺寸为： (samples, filters, new_rows, new_cols)，如果 data_format='channels_first'； 或者 4D 张量，尺寸为： (samples, new_rows, new_cols, filters)，如果 data_format='channels_last'。 rows 和 cols 的值可能因填充而改变。"
   ]
  },
  {
   "cell_type": "code",
   "execution_count": null,
   "metadata": {},
   "outputs": [],
   "source": []
  },
  {
   "cell_type": "code",
   "execution_count": null,
   "metadata": {},
   "outputs": [],
   "source": []
  },
  {
   "cell_type": "code",
   "execution_count": null,
   "metadata": {},
   "outputs": [],
   "source": []
  },
  {
   "cell_type": "code",
   "execution_count": null,
   "metadata": {},
   "outputs": [],
   "source": []
  },
  {
   "cell_type": "code",
   "execution_count": null,
   "metadata": {},
   "outputs": [],
   "source": []
  },
  {
   "cell_type": "code",
   "execution_count": null,
   "metadata": {},
   "outputs": [],
   "source": []
  },
  {
   "cell_type": "code",
   "execution_count": null,
   "metadata": {},
   "outputs": [],
   "source": []
  },
  {
   "cell_type": "code",
   "execution_count": null,
   "metadata": {},
   "outputs": [],
   "source": []
  },
  {
   "cell_type": "code",
   "execution_count": null,
   "metadata": {},
   "outputs": [],
   "source": []
  },
  {
   "cell_type": "code",
   "execution_count": null,
   "metadata": {},
   "outputs": [],
   "source": []
  },
  {
   "cell_type": "code",
   "execution_count": null,
   "metadata": {},
   "outputs": [],
   "source": []
  }
 ],
 "metadata": {
  "kernelspec": {
   "display_name": "Python 3",
   "language": "python",
   "name": "python3"
  },
  "language_info": {
   "codemirror_mode": {
    "name": "ipython",
    "version": 3
   },
   "file_extension": ".py",
   "mimetype": "text/x-python",
   "name": "python",
   "nbconvert_exporter": "python",
   "pygments_lexer": "ipython3",
   "version": "3.6.5"
  }
 },
 "nbformat": 4,
 "nbformat_minor": 2
}
