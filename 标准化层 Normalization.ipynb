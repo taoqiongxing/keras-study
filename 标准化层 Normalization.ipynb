{
 "cells": [
  {
   "cell_type": "markdown",
   "metadata": {},
   "source": [
    "# BatchNormalization"
   ]
  },
  {
   "cell_type": "code",
   "execution_count": null,
   "metadata": {},
   "outputs": [],
   "source": [
    "keras.layers.BatchNormalization(axis=-1, \n",
    "                                momentum=0.99, \n",
    "                                epsilon=0.001, \n",
    "                                center=True, \n",
    "                                scale=True, \n",
    "                                beta_initializer='zeros', \n",
    "                                gamma_initializer='ones', \n",
    "                                moving_mean_initializer='zeros', \n",
    "                                moving_variance_initializer='ones', \n",
    "                                beta_regularizer=None, \n",
    "                                gamma_regularizer=None, \n",
    "                                beta_constraint=None, \n",
    "                                gamma_constraint=None)"
   ]
  },
  {
   "cell_type": "markdown",
   "metadata": {},
   "source": [
    "批量标准化层 (Ioffe and Szegedy, 2014)。\n",
    "\n",
    "在每一个批次的数据中标准化前一层的激活项， 即，应用一个维持激活项平均值接近 0，标准差接近 1 的转换。\n",
    "\n",
    "### 参数\n",
    "\n",
    "axis: 整数，需要标准化的轴 （通常是特征轴）。 例如，在 data_format=\"channels_first\" 的 Conv2D 层之后， 在 BatchNormalization 中设置 axis=1。\n",
    "\n",
    "momentum: 移动均值和移动方差的动量。\n",
    "\n",
    "epsilon: 增加到方差的小的浮点数，以避免除以零。\n",
    "\n",
    "center: 如果为 True，把 beta 的偏移量加到标准化的张量上。 如果为 False， beta 被忽略。\n",
    "\n",
    "scale: 如果为 True，乘以 gamma。 如果为 False，gamma 不使用。 当下一层为线性层（或者例如 nn.relu）， 这可以被禁用，因为缩放将由下一层完成。\n",
    "\n",
    "beta_initializer: beta 权重的初始化方法。\n",
    "\n",
    "gamma_initializer: gamma 权重的初始化方法。\n",
    "\n",
    "moving_mean_initializer: 移动均值的初始化方法。\n",
    "\n",
    "moving_variance_initializer: 移动方差的初始化方法。\n",
    "\n",
    "beta_regularizer: 可选的 beta 权重的正则化方法。\n",
    "\n",
    "gamma_regularizer: 可选的 gamma 权重的正则化方法。\n",
    "\n",
    "beta_constraint: 可选的 beta 权重的约束方法。\n",
    "\n",
    "gamma_constraint: 可选的 gamma 权重的约束方法。\n",
    "### 输入尺寸\n",
    "\n",
    "可以是任意的。如果将这一层作为模型的第一层， 则需要指定 input_shape 参数 （整数元组，不包含样本数量的维度）。\n",
    "\n",
    "### 输出尺寸\n",
    "\n",
    "与输入相同。"
   ]
  },
  {
   "cell_type": "code",
   "execution_count": null,
   "metadata": {},
   "outputs": [],
   "source": []
  }
 ],
 "metadata": {
  "kernelspec": {
   "display_name": "Python 3",
   "language": "python",
   "name": "python3"
  },
  "language_info": {
   "codemirror_mode": {
    "name": "ipython",
    "version": 3
   },
   "file_extension": ".py",
   "mimetype": "text/x-python",
   "name": "python",
   "nbconvert_exporter": "python",
   "pygments_lexer": "ipython3",
   "version": "3.6.5"
  }
 },
 "nbformat": 4,
 "nbformat_minor": 2
}
