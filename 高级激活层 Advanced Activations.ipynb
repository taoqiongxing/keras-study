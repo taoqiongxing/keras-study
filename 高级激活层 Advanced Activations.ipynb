{
 "cells": [
  {
   "cell_type": "markdown",
   "metadata": {},
   "source": [
    "# LeakyReLU"
   ]
  },
  {
   "cell_type": "code",
   "execution_count": null,
   "metadata": {},
   "outputs": [],
   "source": [
    "keras.layers.LeakyReLU(alpha=0.3)"
   ]
  },
  {
   "cell_type": "markdown",
   "metadata": {},
   "source": [
    "带泄漏的修正线性单元。\n",
    "\n",
    "当神经元未激活时，它仍可以赋予其一个很小的梯度： f(x) = alpha * x for x < 0, f(x) = x for x >= 0.\n",
    "\n",
    "### 输入尺寸\n",
    "\n",
    "可以是任意的。如果将该层作为模型的第一层， 则需要指定 input_shape 参数 （整数元组，不包含样本数量的维度）。\n",
    "\n",
    "### 输出尺寸\n",
    "\n",
    "与输入相同。\n",
    "\n",
    "### 参数\n",
    "\n",
    "alpha: float >= 0。负斜率系数。"
   ]
  },
  {
   "cell_type": "markdown",
   "metadata": {},
   "source": [
    "# PReLU"
   ]
  },
  {
   "cell_type": "code",
   "execution_count": null,
   "metadata": {},
   "outputs": [],
   "source": [
    "keras.layers.PReLU(alpha_initializer='zeros', \n",
    "                   alpha_regularizer=None, \n",
    "                   alpha_constraint=None, \n",
    "                   shared_axes=None)"
   ]
  },
  {
   "cell_type": "markdown",
   "metadata": {},
   "source": [
    "参数化的修正线性单元。\n",
    "\n",
    "形式： f(x) = alpha * x for x < 0, f(x) = x for x >= 0, 其中 alpha 是一个可学习的数组，尺寸与 x 相同。\n",
    "\n",
    "### 输入尺寸\n",
    "\n",
    "可以是任意的。如果将这一层作为模型的第一层， 则需要指定 input_shape 参数 （整数元组，不包含样本数量的维度）。\n",
    "\n",
    "### 输出尺寸\n",
    "\n",
    "与输入相同。\n",
    "\n",
    "### 参数\n",
    "\n",
    "alpha_initializer: 权重的初始化函数。\n",
    "\n",
    "alpha_regularizer: 权重的正则化方法。\n",
    "\n",
    "alpha_constraint: 权重的约束。\n",
    "\n",
    "shared_axes: 激活函数共享可学习参数的轴。 例如，如果输入特征图来自输出形状为  (batch, height, width, channels) 的 2D 卷积层，而且你希望跨空间共享参数，以便每个滤波器只有一组参数， 可设置 shared_axes=[1, 2]。"
   ]
  },
  {
   "cell_type": "markdown",
   "metadata": {},
   "source": [
    "# ELU"
   ]
  },
  {
   "cell_type": "code",
   "execution_count": null,
   "metadata": {},
   "outputs": [],
   "source": [
    "keras.layers.ELU(alpha=1.0)"
   ]
  },
  {
   "cell_type": "markdown",
   "metadata": {},
   "source": [
    "指数线性单元。\n",
    "\n",
    "形式： f(x) =  alpha * (exp(x) - 1.) for x < 0, f(x) = x for x >= 0.\n",
    "\n",
    "### 输入尺寸\n",
    "\n",
    "可以是任意的。如果将这一层作为模型的第一层， 则需要指定 input_shape 参数 （整数元组，不包含样本数量的维度）。\n",
    "\n",
    "### 输出尺寸\n",
    "\n",
    "与输入相同。\n",
    "\n",
    "### 参数\n",
    "\n",
    "alpha: 负因子的尺度。"
   ]
  },
  {
   "cell_type": "markdown",
   "metadata": {},
   "source": [
    "# ThresholdedReLU"
   ]
  },
  {
   "cell_type": "code",
   "execution_count": null,
   "metadata": {},
   "outputs": [],
   "source": [
    "keras.layers.ThresholdedReLU(theta=1.0)"
   ]
  },
  {
   "cell_type": "markdown",
   "metadata": {},
   "source": [
    "带阈值的修正线性单元。\n",
    "\n",
    "形式： f(x) = x for x > theta, f(x) = 0 otherwise.\n",
    "\n",
    "### 输入尺寸\n",
    "\n",
    "可以是任意的。如果将这一层作为模型的第一层， 则需要指定 input_shape 参数 （整数元组，不包含样本数量的维度）。\n",
    "\n",
    "### 输出尺寸\n",
    "\n",
    "与输入相同。\n",
    "\n",
    "### 参数\n",
    "\n",
    "theta: float >= 0。激活的阈值位。"
   ]
  },
  {
   "cell_type": "markdown",
   "metadata": {},
   "source": [
    "# Softmax"
   ]
  },
  {
   "cell_type": "code",
   "execution_count": null,
   "metadata": {},
   "outputs": [],
   "source": [
    "keras.layers.Softmax(axis=-1)"
   ]
  },
  {
   "cell_type": "markdown",
   "metadata": {},
   "source": [
    "Softmax 激活函数。\n",
    "\n",
    "### 输入尺寸\n",
    "\n",
    "可以是任意的。如果将这一层作为模型的第一层， 则需要指定 input_shape 参数 （整数元组，不包含样本数量的维度）。\n",
    "\n",
    "### 输出尺寸\n",
    "\n",
    "与输入相同。\n",
    "\n",
    "### 参数\n",
    "\n",
    "axis: 整数，应用 softmax 标准化的轴。"
   ]
  },
  {
   "cell_type": "markdown",
   "metadata": {},
   "source": [
    "# ReLU"
   ]
  },
  {
   "cell_type": "code",
   "execution_count": null,
   "metadata": {},
   "outputs": [],
   "source": [
    "keras.layers.ReLU(max_value=None)"
   ]
  },
  {
   "cell_type": "markdown",
   "metadata": {},
   "source": [
    "ReLU 激活函数。\n",
    "\n",
    "### 输入尺寸\n",
    "\n",
    "可以是任意的。如果将这一层作为模型的第一层， 则需要指定 input_shape 参数 （整数元组，不包含样本数量的维度）。\n",
    "\n",
    "### 输出尺寸\n",
    "\n",
    "与输入相同。\n",
    "\n",
    "### 参数\n",
    "\n",
    "max_value: 浮点数，最大的输出值。"
   ]
  },
  {
   "cell_type": "code",
   "execution_count": null,
   "metadata": {},
   "outputs": [],
   "source": []
  }
 ],
 "metadata": {
  "kernelspec": {
   "display_name": "Python 3",
   "language": "python",
   "name": "python3"
  },
  "language_info": {
   "codemirror_mode": {
    "name": "ipython",
    "version": 3
   },
   "file_extension": ".py",
   "mimetype": "text/x-python",
   "name": "python",
   "nbconvert_exporter": "python",
   "pygments_lexer": "ipython3",
   "version": "3.6.5"
  }
 },
 "nbformat": 4,
 "nbformat_minor": 2
}
